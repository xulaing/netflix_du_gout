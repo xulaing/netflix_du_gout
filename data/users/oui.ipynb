{
 "cells": [
  {
   "cell_type": "code",
   "execution_count": 1,
   "metadata": {},
   "outputs": [
    {
     "data": {
      "text/html": [
       "<div>\n",
       "<style scoped>\n",
       "    .dataframe tbody tr th:only-of-type {\n",
       "        vertical-align: middle;\n",
       "    }\n",
       "\n",
       "    .dataframe tbody tr th {\n",
       "        vertical-align: top;\n",
       "    }\n",
       "\n",
       "    .dataframe thead th {\n",
       "        text-align: right;\n",
       "    }\n",
       "</style>\n",
       "<table border=\"1\" class=\"dataframe\">\n",
       "  <thead>\n",
       "    <tr style=\"text-align: right;\">\n",
       "      <th></th>\n",
       "      <th>date</th>\n",
       "      <th>rating</th>\n",
       "      <th>recipe_id</th>\n",
       "      <th>review</th>\n",
       "      <th>user_id</th>\n",
       "      <th>username</th>\n",
       "    </tr>\n",
       "  </thead>\n",
       "  <tbody>\n",
       "    <tr>\n",
       "      <th>0</th>\n",
       "      <td>2012-09-11</td>\n",
       "      <td>5</td>\n",
       "      <td>222234</td>\n",
       "      <td>This recipe was delicious! Instead of cherry p...</td>\n",
       "      <td>3419993</td>\n",
       "      <td>Pie84</td>\n",
       "    </tr>\n",
       "    <tr>\n",
       "      <th>1</th>\n",
       "      <td>2012-12-25</td>\n",
       "      <td>5</td>\n",
       "      <td>222234</td>\n",
       "      <td>Made this recipe as instructed and it was easy...</td>\n",
       "      <td>3154459</td>\n",
       "      <td>hertzen</td>\n",
       "    </tr>\n",
       "    <tr>\n",
       "      <th>2</th>\n",
       "      <td>2012-11-22</td>\n",
       "      <td>5</td>\n",
       "      <td>222234</td>\n",
       "      <td>This was a great recipe to make using leftover...</td>\n",
       "      <td>10370475</td>\n",
       "      <td>suziloo</td>\n",
       "    </tr>\n",
       "    <tr>\n",
       "      <th>3</th>\n",
       "      <td>2015-07-07</td>\n",
       "      <td>5</td>\n",
       "      <td>222234</td>\n",
       "      <td>Tasty , simple dessert that comes out cute as ...</td>\n",
       "      <td>2304335</td>\n",
       "      <td>Chelsea M.</td>\n",
       "    </tr>\n",
       "    <tr>\n",
       "      <th>4</th>\n",
       "      <td>2016-12-31</td>\n",
       "      <td>5</td>\n",
       "      <td>222234</td>\n",
       "      <td>Delicious!! I was pressed for time, so I didn'...</td>\n",
       "      <td>1967176</td>\n",
       "      <td>Amanda H.</td>\n",
       "    </tr>\n",
       "  </tbody>\n",
       "</table>\n",
       "</div>"
      ],
      "text/plain": [
       "         date  rating  recipe_id  \\\n",
       "0  2012-09-11       5     222234   \n",
       "1  2012-12-25       5     222234   \n",
       "2  2012-11-22       5     222234   \n",
       "3  2015-07-07       5     222234   \n",
       "4  2016-12-31       5     222234   \n",
       "\n",
       "                                              review   user_id    username  \n",
       "0  This recipe was delicious! Instead of cherry p...   3419993       Pie84  \n",
       "1  Made this recipe as instructed and it was easy...   3154459     hertzen  \n",
       "2  This was a great recipe to make using leftover...  10370475     suziloo  \n",
       "3  Tasty , simple dessert that comes out cute as ...   2304335  Chelsea M.  \n",
       "4  Delicious!! I was pressed for time, so I didn'...   1967176   Amanda H.  "
      ]
     },
     "execution_count": 1,
     "metadata": {},
     "output_type": "execute_result"
    }
   ],
   "source": [
    "import pandas as pd\n",
    "\n",
    "df = pd.read_csv('sample.csv')\n",
    "df.head()"
   ]
  }
 ],
 "metadata": {
  "kernelspec": {
   "display_name": "Python 3.8.8 ('base')",
   "language": "python",
   "name": "python3"
  },
  "language_info": {
   "codemirror_mode": {
    "name": "ipython",
    "version": 3
   },
   "file_extension": ".py",
   "mimetype": "text/x-python",
   "name": "python",
   "nbconvert_exporter": "python",
   "pygments_lexer": "ipython3",
   "version": "3.8.8"
  },
  "orig_nbformat": 4,
  "vscode": {
   "interpreter": {
    "hash": "a67b01ff655fedeafbec0f5c154c73501f94f5bc6352173beba5e66e9a24b9e5"
   }
  }
 },
 "nbformat": 4,
 "nbformat_minor": 2
}
